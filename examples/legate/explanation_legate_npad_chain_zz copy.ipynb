{
 "cells": [
  {
   "cell_type": "code",
   "execution_count": 1,
   "metadata": {},
   "outputs": [],
   "source": [
    "%load_ext autoreload\n",
    "\n",
    "%autoreload 2"
   ]
  },
  {
   "cell_type": "code",
   "execution_count": 48,
   "metadata": {},
   "outputs": [],
   "source": [
    "from itertools import combinations_with_replacement, product\n",
    "\n",
    "import matplotlib.pyplot as plt\n",
    "import numpy as cp\n",
    "import numpy as np\n",
    "import qutip as qt\n",
    "from joblib import Parallel, delayed\n",
    "from tqdm.auto import tqdm\n",
    "\n",
    "from qcheff.duffing.duffing_chain_utils import (\n",
    "    create_uneven_Duffing_Chain,\n",
    "    duffing_chain_num_ham,\n",
    ")\n",
    "\n",
    "rng = cp.random.default_rng()\n",
    "\n",
    "import matplotlib as mpl\n",
    "from matplotlib.colors import LogNorm\n",
    "\n",
    "from qcheff.duffing.duffing_chain_utils import create_duffing_chain_zz_system\n",
    "from qcheff.npad.sparse.npad_cpu import (\n",
    "    npad_decouple,\n",
    "    npad_diagonalize,\n",
    "    npad_eliminate_couplings_simultaneous,\n",
    ")\n",
    "\n",
    "mpl.rcParams[\"figure.dpi\"] = 100\n",
    "mpl.rcParams[\"font.size\"] = 25\n",
    "mpl.rcParams[\"lines.linewidth\"] = 3\n",
    "mpl.rcParams[\"lines.markersize\"] = 8\n",
    "# mpl.rcParams[\"text.usetex\"] = True\n",
    "mpl.rcParams[\"legend.fontsize\"] = 15\n",
    "mpl.rcParams[\"axes.titlesize\"] = 20\n",
    "\n",
    "\n",
    "def plot_matelm_mag(H: np.ndarray, scale=\"log\"):\n",
    "    fig, ax = plt.subplots(1, 1, layout=\"constrained\")\n",
    "    absH = np.abs(H)\n",
    "    P1 = ax.imshow(\n",
    "        absH.get(), cmap=\"binary\", norm=LogNorm(vmin=1e-10) if scale == \"log\" else None\n",
    "    )\n",
    "    ax.set(xticks=[], yticks=[])\n",
    "    plt.colorbar(P1, ax=ax)\n",
    "\n",
    "\n",
    "def plot_offdiag_mag(H: np.ndarray, scale=\"log\"):\n",
    "    plot_matelm_mag(H - np.diag(np.diagonal(H)), scale=scale)\n",
    "\n",
    "\n",
    "mpl.rcParams[\"figure.dpi\"] = 100\n",
    "mpl.rcParams[\"font.size\"] = 25\n",
    "mpl.rcParams[\"lines.linewidth\"] = 3\n",
    "mpl.rcParams[\"lines.markersize\"] = 8\n",
    "mpl.rcParams[\"text.usetex\"] = False\n",
    "mpl.rcParams[\"legend.fontsize\"] = 20\n",
    "mpl.rcParams[\"axes.titlesize\"] = 20"
   ]
  },
  {
   "cell_type": "code",
   "execution_count": 22,
   "metadata": {},
   "outputs": [],
   "source": [
    "delp = 0.1\n",
    "delm = 0.3\n",
    "global_chain_size = 3\n",
    "global_ntrunc = 3\n",
    "system_dims = [global_ntrunc] * global_chain_size\n",
    "example_chain = create_duffing_chain_zz_system(\n",
    "    chain_size=global_chain_size,\n",
    "    delp=delp,\n",
    "    delm=delm,\n",
    "    ntrunc=global_ntrunc,\n",
    ")"
   ]
  },
  {
   "cell_type": "code",
   "execution_count": 36,
   "metadata": {},
   "outputs": [
    {
     "ename": "AttributeError",
     "evalue": "'numpy.ndarray' object has no attribute 'get'",
     "output_type": "error",
     "traceback": [
      "\u001b[0;31m---------------------------------------------------------------------------\u001b[0m",
      "\u001b[0;31mAttributeError\u001b[0m                            Traceback (most recent call last)",
      "Cell \u001b[0;32mIn[36], line 2\u001b[0m\n\u001b[1;32m      1\u001b[0m chain_full_ham \u001b[38;5;241m=\u001b[39m cp\u001b[38;5;241m.\u001b[39masarray(duffing_chain_num_ham(example_chain)\u001b[38;5;241m.\u001b[39mtoarray())\n\u001b[0;32m----> 2\u001b[0m \u001b[43mplot_offdiag_mag\u001b[49m\u001b[43m(\u001b[49m\u001b[43mchain_full_ham\u001b[49m\u001b[43m)\u001b[49m\n",
      "Cell \u001b[0;32mIn[21], line 40\u001b[0m, in \u001b[0;36mplot_offdiag_mag\u001b[0;34m(H, scale)\u001b[0m\n\u001b[1;32m     39\u001b[0m \u001b[38;5;28;01mdef\u001b[39;00m \u001b[38;5;21mplot_offdiag_mag\u001b[39m(H: np\u001b[38;5;241m.\u001b[39mndarray, scale\u001b[38;5;241m=\u001b[39m\u001b[38;5;124m\"\u001b[39m\u001b[38;5;124mlog\u001b[39m\u001b[38;5;124m\"\u001b[39m):\n\u001b[0;32m---> 40\u001b[0m     \u001b[43mplot_matelm_mag\u001b[49m\u001b[43m(\u001b[49m\u001b[43mH\u001b[49m\u001b[43m \u001b[49m\u001b[38;5;241;43m-\u001b[39;49m\u001b[43m \u001b[49m\u001b[43mnp\u001b[49m\u001b[38;5;241;43m.\u001b[39;49m\u001b[43mdiag\u001b[49m\u001b[43m(\u001b[49m\u001b[43mnp\u001b[49m\u001b[38;5;241;43m.\u001b[39;49m\u001b[43mdiagonal\u001b[49m\u001b[43m(\u001b[49m\u001b[43mH\u001b[49m\u001b[43m)\u001b[49m\u001b[43m)\u001b[49m\u001b[43m,\u001b[49m\u001b[43m \u001b[49m\u001b[43mscale\u001b[49m\u001b[38;5;241;43m=\u001b[39;49m\u001b[43mscale\u001b[49m\u001b[43m)\u001b[49m\n",
      "Cell \u001b[0;32mIn[21], line 34\u001b[0m, in \u001b[0;36mplot_matelm_mag\u001b[0;34m(H, scale)\u001b[0m\n\u001b[1;32m     32\u001b[0m fig, ax \u001b[38;5;241m=\u001b[39m plt\u001b[38;5;241m.\u001b[39msubplots(\u001b[38;5;241m1\u001b[39m, \u001b[38;5;241m1\u001b[39m, layout\u001b[38;5;241m=\u001b[39m\u001b[38;5;124m\"\u001b[39m\u001b[38;5;124mconstrained\u001b[39m\u001b[38;5;124m\"\u001b[39m)\n\u001b[1;32m     33\u001b[0m absH \u001b[38;5;241m=\u001b[39m np\u001b[38;5;241m.\u001b[39mabs(H)\n\u001b[0;32m---> 34\u001b[0m P1 \u001b[38;5;241m=\u001b[39m ax\u001b[38;5;241m.\u001b[39mimshow(\u001b[43mabsH\u001b[49m\u001b[38;5;241;43m.\u001b[39;49m\u001b[43mget\u001b[49m(), cmap\u001b[38;5;241m=\u001b[39m\u001b[38;5;124m\"\u001b[39m\u001b[38;5;124mbinary\u001b[39m\u001b[38;5;124m\"\u001b[39m, norm\u001b[38;5;241m=\u001b[39mLogNorm(vmin\u001b[38;5;241m=\u001b[39m\u001b[38;5;241m1e-10\u001b[39m) \u001b[38;5;28;01mif\u001b[39;00m scale \u001b[38;5;241m==\u001b[39m \u001b[38;5;124m\"\u001b[39m\u001b[38;5;124mlog\u001b[39m\u001b[38;5;124m\"\u001b[39m \u001b[38;5;28;01melse\u001b[39;00m \u001b[38;5;28;01mNone\u001b[39;00m)\n\u001b[1;32m     35\u001b[0m ax\u001b[38;5;241m.\u001b[39mset(xticks\u001b[38;5;241m=\u001b[39m[], yticks\u001b[38;5;241m=\u001b[39m[])\n\u001b[1;32m     36\u001b[0m plt\u001b[38;5;241m.\u001b[39mcolorbar(P1, ax\u001b[38;5;241m=\u001b[39max)\n",
      "\u001b[0;31mAttributeError\u001b[0m: 'numpy.ndarray' object has no attribute 'get'"
     ]
    },
    {
     "data": {
      "image/png": "[encoded data removed]",
      "text/plain": [
       "<Figure size 640x480 with 1 Axes>"
      ]
     },
     "metadata": {},
     "output_type": "display_data"
    }
   ],
   "source": [
    "chain_full_ham = cp.asarray(duffing_chain_num_ham(example_chain).toarray())\n",
    "plot_offdiag_mag(chain_full_ham)"
   ]
  },
  {
   "cell_type": "markdown",
   "metadata": {},
   "source": [
    "# Duffing Chain ZZ Example NPAD\n",
    "We will estimate the zz coupling between the qubits at the two ends of a linear spin chain."
   ]
  },
  {
   "cell_type": "markdown",
   "metadata": {},
   "source": [
    "There are 3^5 = 243 levels in this chain of size 5. We only care about the levels contributing to ZZ interaction for the end qubits. there are 4 such levels.\n",
    "We should partition them out."
   ]
  },
  {
   "cell_type": "code",
   "execution_count": 37,
   "metadata": {},
   "outputs": [],
   "source": [
    "all_levels = list(qt.state_number_enumerate(system_dims))\n",
    "# Keeping levels with 0 or 1 excitations at the ends, and 0 excitations in the middle\n",
    "end_zz_levels = [\n",
    "    label\n",
    "    for label in all_levels\n",
    "    if label[0] in [0, 1] and label[-1] in [0, 1] and set(label[1:-1]) == {0}\n",
    "]\n",
    "# qubit_chain_levels = [label for label in all_levels if max(label) <= 1]\n",
    "other_levels = [label for label in all_levels if label not in end_zz_levels]\n",
    "end_zz_idx = cp.asarray(\n",
    "    [qt.state_number_index(system_dims, state) for state in end_zz_levels]\n",
    ")\n",
    "other_idx = cp.asarray(\n",
    "    [qt.state_number_index(system_dims, state) for state in other_levels]\n",
    ")"
   ]
  },
  {
   "cell_type": "code",
   "execution_count": 38,
   "metadata": {},
   "outputs": [
    {
     "data": {
      "text/plain": [
       "[(0, 0, 0), (0, 0, 1), (1, 0, 0), (1, 0, 1)]"
      ]
     },
     "execution_count": 38,
     "metadata": {},
     "output_type": "execute_result"
    }
   ],
   "source": [
    "end_zz_levels"
   ]
  },
  {
   "cell_type": "markdown",
   "metadata": {},
   "source": [
    "Now, we can construct sets of couplings to rotate away simulatneously. We will bunch the couplings by photon number. "
   ]
  },
  {
   "cell_type": "code",
   "execution_count": 39,
   "metadata": {},
   "outputs": [
    {
     "data": {
      "text/plain": [
       "[((0, 0, 1), (0, 1, 0)),\n",
       " ((1, 0, 0), (0, 1, 0)),\n",
       " ((1, 0, 1), (0, 0, 2)),\n",
       " ((1, 0, 1), (0, 1, 1)),\n",
       " ((1, 0, 1), (0, 2, 0)),\n",
       " ((1, 0, 1), (1, 1, 0)),\n",
       " ((1, 0, 1), (2, 0, 0))]"
      ]
     },
     "execution_count": 39,
     "metadata": {},
     "output_type": "execute_result"
    }
   ],
   "source": [
    "# This hamiltonian is photon number preserving for total photons.\n",
    "all_couplings = [\n",
    "    (lev1, lev2)\n",
    "    for lev1, lev2 in (list(product(end_zz_levels, other_levels)))\n",
    "    if sum(lev1) == sum(lev2)\n",
    "]\n",
    "all_couplings"
   ]
  },
  {
   "cell_type": "markdown",
   "metadata": {},
   "source": [
    "It might be hard to classify them, so maybe  we should generate them instead. The easiest way would be to create the generator, then get multi-photon couplings from combinations of that."
   ]
  },
  {
   "cell_type": "code",
   "execution_count": 40,
   "metadata": {},
   "outputs": [
    {
     "data": {
      "text/plain": [
       "array([[ 1, -1,  0],\n",
       "       [ 0,  1, -1],\n",
       "       [-1,  1,  0],\n",
       "       [ 0, -1,  1]])"
      ]
     },
     "execution_count": 40,
     "metadata": {},
     "output_type": "execute_result"
    }
   ],
   "source": [
    "pm_gens = cp.asarray(\n",
    "    cp.identity(global_chain_size) - cp.diag(cp.ones(global_chain_size - 1), k=1),\n",
    "    dtype=int,\n",
    ")[:-1]\n",
    "mp_gens = -pm_gens\n",
    "all_1p_gens = cp.vstack([pm_gens, mp_gens])\n",
    "all_1p_gens"
   ]
  },
  {
   "cell_type": "code",
   "execution_count": 41,
   "metadata": {},
   "outputs": [
    {
     "data": {
      "text/plain": [
       "array([[ 2, -2,  0],\n",
       "       [ 1,  0, -1],\n",
       "       [ 0,  0,  0],\n",
       "       [ 1, -2,  1],\n",
       "       [ 0,  2, -2],\n",
       "       [-1,  2, -1],\n",
       "       [ 0,  0,  0],\n",
       "       [-2,  2,  0],\n",
       "       [-1,  0,  1],\n",
       "       [ 0, -2,  2]])"
      ]
     },
     "execution_count": 41,
     "metadata": {},
     "output_type": "execute_result"
    }
   ],
   "source": [
    "all_2p_gens = cp.vstack(\n",
    "    [sum(gens) for gens in combinations_with_replacement(all_1p_gens, 2)]\n",
    ")\n",
    "all_2p_gens"
   ]
  },
  {
   "cell_type": "markdown",
   "metadata": {},
   "source": [
    "So we should now apply these transitions and get the result states"
   ]
  },
  {
   "cell_type": "code",
   "execution_count": 42,
   "metadata": {},
   "outputs": [
    {
     "data": {
      "text/plain": [
       "array([[0, 0, 0],\n",
       "       [0, 0, 1],\n",
       "       [1, 0, 0],\n",
       "       [1, 0, 1]])"
      ]
     },
     "execution_count": 42,
     "metadata": {},
     "output_type": "execute_result"
    }
   ],
   "source": [
    "cp.vstack(end_zz_levels)"
   ]
  },
  {
   "cell_type": "code",
   "execution_count": 43,
   "metadata": {},
   "outputs": [
    {
     "data": {
      "text/plain": [
       "[(array([0, 0, 1]), array([1, 0, 0])),\n",
       " (array([0, 0, 1]), array([0, 0, 1])),\n",
       " (array([0, 0, 1]), array([0, 0, 1])),\n",
       " (array([1, 0, 0]), array([1, 0, 0])),\n",
       " (array([1, 0, 0]), array([1, 0, 0])),\n",
       " (array([1, 0, 0]), array([0, 0, 1])),\n",
       " (array([1, 0, 1]), array([2, 0, 0])),\n",
       " (array([1, 0, 1]), array([1, 0, 1])),\n",
       " (array([1, 0, 1]), array([0, 2, 0])),\n",
       " (array([1, 0, 1]), array([1, 0, 1])),\n",
       " (array([1, 0, 1]), array([0, 0, 2]))]"
      ]
     },
     "execution_count": 43,
     "metadata": {},
     "output_type": "execute_result"
    }
   ],
   "source": [
    "fstates = cp.vstack(end_zz_levels)[:, None, :] + all_2p_gens\n",
    "istates = cp.broadcast_to(cp.vstack(end_zz_levels)[:, None, :], fstates.shape)\n",
    "\n",
    "coupling_tuples = [\n",
    "    (istate, fstate)\n",
    "    for istate, fstate in zip(cp.vstack(istates), cp.vstack(fstates), strict=False)\n",
    "    if cp.all(fstate >= 0)\n",
    "    and cp.all(fstate < global_ntrunc)\n",
    "    and not cp.all(fstate == 0)\n",
    "]\n",
    "\n",
    "coupling_tuples"
   ]
  },
  {
   "cell_type": "markdown",
   "metadata": {},
   "source": [
    "Now we can try finding the indices for these coupling terms."
   ]
  },
  {
   "cell_type": "code",
   "execution_count": 44,
   "metadata": {},
   "outputs": [
    {
     "data": {
      "text/plain": [
       "array([[ 1,  9],\n",
       "       [ 9,  1],\n",
       "       [10, 18],\n",
       "       [10,  6],\n",
       "       [10,  2]])"
      ]
     },
     "execution_count": 44,
     "metadata": {},
     "output_type": "execute_result"
    }
   ],
   "source": [
    "# We will deliberately ignore the diagonal elements\n",
    "coupling_idx = cp.asarray(\n",
    "    [\n",
    "        (qt.state_number_index(system_dims, i), qt.state_number_index(system_dims, j))\n",
    "        for i, j in coupling_tuples\n",
    "        if (i - j).any()\n",
    "    ]\n",
    ")\n",
    "coupling_idx"
   ]
  },
  {
   "cell_type": "markdown",
   "metadata": {},
   "source": [
    "We can now formalize this in a function."
   ]
  },
  {
   "cell_type": "code",
   "execution_count": 45,
   "metadata": {},
   "outputs": [
    {
     "data": {
      "text/plain": [
       "array([[ 1,  3],\n",
       "       [ 1,  3],\n",
       "       [ 1,  3],\n",
       "       [ 1,  3],\n",
       "       [ 9,  3],\n",
       "       [ 9,  3],\n",
       "       [ 9,  3],\n",
       "       [ 9,  3],\n",
       "       [10, 12],\n",
       "       [10,  4],\n",
       "       [10, 12],\n",
       "       [10,  4],\n",
       "       [10, 12],\n",
       "       [10,  4],\n",
       "       [10, 12],\n",
       "       [10,  4]])"
      ]
     },
     "execution_count": 45,
     "metadata": {},
     "output_type": "execute_result"
    }
   ],
   "source": [
    "def get_n_photon_couplings(n: int):\n",
    "    pm_gens = cp.asarray(\n",
    "        cp.identity(global_chain_size) - cp.diag(cp.ones(global_chain_size - 1), k=1),\n",
    "        dtype=int,\n",
    "    )[:-1]\n",
    "    mp_gens = -pm_gens\n",
    "    all_1p_gens = cp.vstack([pm_gens, mp_gens])\n",
    "    all_np_gens = cp.vstack(\n",
    "        [sum(gens) for gens in combinations_with_replacement(all_1p_gens, n)]\n",
    "    )\n",
    "    fstates = cp.vstack(end_zz_levels)[:, None, :] + all_np_gens\n",
    "    istates = cp.broadcast_to(cp.vstack(end_zz_levels)[:, None, :], fstates.shape)\n",
    "\n",
    "    coupling_tuples = [\n",
    "        (istate, fstate)\n",
    "        for istate, fstate in zip(cp.vstack(istates), cp.vstack(fstates), strict=False)\n",
    "        if cp.all(fstate >= 0)\n",
    "        and cp.all(fstate < global_ntrunc)\n",
    "        and not cp.all(fstate == 0)\n",
    "    ]\n",
    "\n",
    "    coupling_idx = cp.asarray(\n",
    "        [\n",
    "            (\n",
    "                qt.state_number_index(system_dims, i),\n",
    "                qt.state_number_index(system_dims, j),\n",
    "            )\n",
    "            for i, j in coupling_tuples\n",
    "            if (i - j).any()\n",
    "        ]\n",
    "    )\n",
    "    return np.unique(coupling_idx, axis=0)\n",
    "\n",
    "\n",
    "get_n_photon_couplings(7)"
   ]
  },
  {
   "cell_type": "code",
   "execution_count": 46,
   "metadata": {},
   "outputs": [
    {
     "data": {
      "text/plain": [
       "array([[ 1,  3],\n",
       "       [ 9,  3],\n",
       "       [10,  4],\n",
       "       [10, 12]])"
      ]
     },
     "execution_count": 46,
     "metadata": {},
     "output_type": "execute_result"
    }
   ],
   "source": [
    "np.unique(get_n_photon_couplings(7), axis=0)"
   ]
  },
  {
   "cell_type": "markdown",
   "metadata": {},
   "source": [
    "Now that we have identified labels for each set of levels, we first decouple, then diagonalize.)."
   ]
  },
  {
   "cell_type": "code",
   "execution_count": 49,
   "metadata": {},
   "outputs": [
    {
     "ename": "IndexError",
     "evalue": "tuple index out of range",
     "output_type": "error",
     "traceback": [
      "\u001b[0;31m---------------------------------------------------------------------------\u001b[0m",
      "\u001b[0;31mIndexError\u001b[0m                                Traceback (most recent call last)",
      "Cell \u001b[0;32mIn[49], line 23\u001b[0m\n\u001b[1;32m     20\u001b[0m     E00, E01, E10, E11 \u001b[38;5;241m=\u001b[39m cp\u001b[38;5;241m.\u001b[39mdiag(npad_cz_ham)\n\u001b[1;32m     21\u001b[0m     \u001b[38;5;28;01mreturn\u001b[39;00m E11 \u001b[38;5;241m+\u001b[39m E00 \u001b[38;5;241m-\u001b[39m E01 \u001b[38;5;241m-\u001b[39m E10\n\u001b[0;32m---> 23\u001b[0m \u001b[43mnpad_auto_chain_zz\u001b[49m\u001b[43m(\u001b[49m\u001b[38;5;241;43m0.1\u001b[39;49m\u001b[43m,\u001b[49m\u001b[43m \u001b[49m\u001b[38;5;241;43m0.3\u001b[39;49m\u001b[43m)\u001b[49m\n",
      "Cell \u001b[0;32mIn[49], line 18\u001b[0m, in \u001b[0;36mnpad_auto_chain_zz\u001b[0;34m(delp, delm)\u001b[0m\n\u001b[1;32m     16\u001b[0m coupling_batches \u001b[38;5;241m=\u001b[39m [get_n_photon_couplings(n) \u001b[38;5;28;01mfor\u001b[39;00m n \u001b[38;5;129;01min\u001b[39;00m \u001b[38;5;28mrange\u001b[39m(\u001b[38;5;241m1\u001b[39m, global_chain_size)]\n\u001b[1;32m     17\u001b[0m \u001b[38;5;28;01mfor\u001b[39;00m batch \u001b[38;5;129;01min\u001b[39;00m coupling_batches:\n\u001b[0;32m---> 18\u001b[0m     test_ham \u001b[38;5;241m=\u001b[39m \u001b[43mnpad_eliminate_couplings_simultaneous\u001b[49m\u001b[43m(\u001b[49m\u001b[43mtest_ham\u001b[49m\u001b[43m,\u001b[49m\u001b[43m \u001b[49m\u001b[43mbatch\u001b[49m\u001b[43m)\u001b[49m\n\u001b[1;32m     19\u001b[0m npad_cz_ham \u001b[38;5;241m=\u001b[39m npad_diagonalize(test_ham[cp\u001b[38;5;241m.\u001b[39mix_(end_zz_idx, end_zz_idx)], eps\u001b[38;5;241m=\u001b[39m\u001b[38;5;241m1e-12\u001b[39m)\n\u001b[1;32m     20\u001b[0m E00, E01, E10, E11 \u001b[38;5;241m=\u001b[39m cp\u001b[38;5;241m.\u001b[39mdiag(npad_cz_ham)\n",
      "File \u001b[0;32m~/Documents/qCHeff/src/qcheff/npad/sparse/npad_cpu.py:76\u001b[0m, in \u001b[0;36mnpad_eliminate_couplings_simultaneous\u001b[0;34m(H, couplings, dtype)\u001b[0m\n\u001b[1;32m     48\u001b[0m \u001b[38;5;28;01mdef\u001b[39;00m \u001b[38;5;21mnpad_eliminate_couplings_simultaneous\u001b[39m(\n\u001b[1;32m     49\u001b[0m     H: np\u001b[38;5;241m.\u001b[39mndarray,\n\u001b[1;32m     50\u001b[0m     couplings: \u001b[38;5;28mlist\u001b[39m,\n\u001b[1;32m     51\u001b[0m     dtype\u001b[38;5;241m=\u001b[39m\u001b[38;5;124m\"\u001b[39m\u001b[38;5;124mcomplex64\u001b[39m\u001b[38;5;124m\"\u001b[39m,\n\u001b[1;32m     52\u001b[0m ):\n\u001b[1;32m     53\u001b[0m \u001b[38;5;250m    \u001b[39m\u001b[38;5;124;03m\"\"\"\u001b[39;00m\n\u001b[1;32m     54\u001b[0m \u001b[38;5;124;03m    Rotate away given couplings simulataneously, then return the final matrix.\u001b[39;00m\n\u001b[1;32m     55\u001b[0m \n\u001b[0;32m   (...)\u001b[0m\n\u001b[1;32m     73\u001b[0m \n\u001b[1;32m     74\u001b[0m \u001b[38;5;124;03m    \"\"\"\u001b[39;00m\n\u001b[0;32m---> 76\u001b[0m     dim \u001b[38;5;241m=\u001b[39m \u001b[43mH\u001b[49m\u001b[38;5;241;43m.\u001b[39;49m\u001b[43mshape\u001b[49m\u001b[43m[\u001b[49m\u001b[38;5;241;43m0\u001b[39;49m\u001b[43m]\u001b[49m\n\u001b[1;32m     77\u001b[0m     Ul \u001b[38;5;241m=\u001b[39m spsparse\u001b[38;5;241m.\u001b[39midentity(dim, dtype\u001b[38;5;241m=\u001b[39mdtype)\n\u001b[1;32m     79\u001b[0m     \u001b[38;5;66;03m# We should parallelize this loop probably\u001b[39;00m\n",
      "\u001b[0;31mIndexError\u001b[0m: tuple index out of range"
     ]
    }
   ],
   "source": [
    "def npad_auto_chain_zz(delp, delm):\n",
    "    test_sys = create_duffing_chain_zz_system(\n",
    "        chain_size=global_chain_size,\n",
    "        delp=delp,\n",
    "        delm=delm,\n",
    "        ntrunc=global_ntrunc,\n",
    "    )\n",
    "    system_dims = [global_ntrunc] * global_chain_size\n",
    "    all_levels = list(qt.state_number_enumerate(system_dims))\n",
    "    end_zz_levels = [\n",
    "        label\n",
    "        for label in all_levels\n",
    "        if label[0] in [0, 1] and label[-1] in [0, 1] and set(label[1:-1]) == {0}\n",
    "    ]\n",
    "    other_levels = [label for label in all_levels if label not in end_zz_levels]\n",
    "    end_zz_idx = cp.asarray(\n",
    "        [qt.state_number_index(system_dims, state) for state in end_zz_levels]\n",
    "    )\n",
    "    other_idx = cp.asarray(\n",
    "        [qt.state_number_index(system_dims, state) for state in other_levels]\n",
    "    )\n",
    "    test_ham = cp.asarray(duffing_chain_num_ham(test_sys)[:])\n",
    "    # This can get really slow.\n",
    "    coupling_batches = [get_n_photon_couplings(n) for n in range(1, global_chain_size)]\n",
    "    for batch in coupling_batches:\n",
    "        test_ham = npad_eliminate_couplings_simultaneous(test_ham, batch)\n",
    "    npad_cz_ham = npad_diagonalize(test_ham[cp.ix_(end_zz_idx, end_zz_idx)], eps=1e-12)\n",
    "    E00, E01, E10, E11 = cp.diag(npad_cz_ham)\n",
    "    return E11 + E00 - E01 - E10\n",
    "\n",
    "\n",
    "npad_auto_chain_zz(0.1, 0.3)"
   ]
  },
  {
   "cell_type": "code",
   "execution_count": null,
   "metadata": {},
   "outputs": [
    {
     "data": {
      "application/vnd.jupyter.widget-view+json": {
       "model_id": "9cff0e5d635f4126b6f95b638f24e231",
       "version_major": 2,
       "version_minor": 0
      },
      "text/plain": [
       "  0%|          | 0/2500 [00:00<?, ?it/s]"
      ]
     },
     "metadata": {},
     "output_type": "display_data"
    },
    {
     "ename": "KeyboardInterrupt",
     "evalue": "",
     "output_type": "error",
     "traceback": [
      "\u001b[0;31m---------------------------------------------------------------------------\u001b[0m",
      "\u001b[0;31mKeyboardInterrupt\u001b[0m                         Traceback (most recent call last)",
      "Cell \u001b[0;32mIn[15], line 7\u001b[0m\n\u001b[1;32m      2\u001b[0m delp_list \u001b[38;5;241m=\u001b[39m cp\u001b[38;5;241m.\u001b[39mlinspace(\u001b[38;5;241m-\u001b[39m\u001b[38;5;241m0.9\u001b[39m, \u001b[38;5;241m0.4\u001b[39m, N)\n\u001b[1;32m      3\u001b[0m delm_list \u001b[38;5;241m=\u001b[39m cp\u001b[38;5;241m.\u001b[39mlinspace(\u001b[38;5;241m-\u001b[39m\u001b[38;5;241m0.5\u001b[39m, \u001b[38;5;241m0.5\u001b[39m, N)\n\u001b[1;32m      6\u001b[0m npad_auto_chain_zz_list \u001b[38;5;241m=\u001b[39m cp\u001b[38;5;241m.\u001b[39mvstack(\n\u001b[0;32m----> 7\u001b[0m     \u001b[43mParallel\u001b[49m\u001b[43m(\u001b[49m\u001b[43mn_jobs\u001b[49m\u001b[38;5;241;43m=\u001b[39;49m\u001b[38;5;241;43m-\u001b[39;49m\u001b[38;5;241;43m2\u001b[39;49m\u001b[43m,\u001b[49m\u001b[43m \u001b[49m\u001b[43mverbose\u001b[49m\u001b[38;5;241;43m=\u001b[39;49m\u001b[38;5;241;43m0\u001b[39;49m\u001b[43m)\u001b[49m\u001b[43m(\u001b[49m\n\u001b[1;32m      8\u001b[0m \u001b[43m        \u001b[49m\u001b[43mdelayed\u001b[49m\u001b[43m(\u001b[49m\u001b[43mnpad_auto_chain_zz\u001b[49m\u001b[43m)\u001b[49m\u001b[43m(\u001b[49m\u001b[43mdelp\u001b[49m\u001b[43m,\u001b[49m\u001b[43m \u001b[49m\u001b[43mdelm\u001b[49m\u001b[43m)\u001b[49m\n\u001b[1;32m      9\u001b[0m \u001b[43m        \u001b[49m\u001b[38;5;28;43;01mfor\u001b[39;49;00m\u001b[43m \u001b[49m\u001b[43mdelm\u001b[49m\u001b[43m,\u001b[49m\u001b[43m \u001b[49m\u001b[43mdelp\u001b[49m\u001b[43m \u001b[49m\u001b[38;5;129;43;01min\u001b[39;49;00m\u001b[43m \u001b[49m\u001b[43mtqdm\u001b[49m\u001b[43m(\u001b[49m\u001b[43mproduct\u001b[49m\u001b[43m(\u001b[49m\u001b[43mdelm_list\u001b[49m\u001b[43m,\u001b[49m\u001b[43m \u001b[49m\u001b[43mdelp_list\u001b[49m\u001b[43m)\u001b[49m\u001b[43m,\u001b[49m\u001b[43m \u001b[49m\u001b[43mtotal\u001b[49m\u001b[38;5;241;43m=\u001b[39;49m\u001b[43m(\u001b[49m\u001b[43mdelm_list\u001b[49m\u001b[38;5;241;43m.\u001b[39;49m\u001b[43mshape\u001b[49m\u001b[43m[\u001b[49m\u001b[38;5;241;43m0\u001b[39;49m\u001b[43m]\u001b[49m\u001b[43m \u001b[49m\u001b[38;5;241;43m*\u001b[39;49m\u001b[43m \u001b[49m\u001b[43mdelp_list\u001b[49m\u001b[38;5;241;43m.\u001b[39;49m\u001b[43mshape\u001b[49m\u001b[43m[\u001b[49m\u001b[38;5;241;43m0\u001b[39;49m\u001b[43m]\u001b[49m\u001b[43m)\u001b[49m\u001b[43m)\u001b[49m\n\u001b[1;32m     10\u001b[0m \u001b[43m    \u001b[49m\u001b[43m)\u001b[49m\n\u001b[1;32m     11\u001b[0m )\u001b[38;5;241m.\u001b[39mget()\n",
      "File \u001b[0;32m~/miniforge3/envs/cupy-env/lib/python3.11/site-packages/joblib/parallel.py:1952\u001b[0m, in \u001b[0;36mParallel.__call__\u001b[0;34m(self, iterable)\u001b[0m\n\u001b[1;32m   1946\u001b[0m \u001b[38;5;66;03m# The first item from the output is blank, but it makes the interpreter\u001b[39;00m\n\u001b[1;32m   1947\u001b[0m \u001b[38;5;66;03m# progress until it enters the Try/Except block of the generator and\u001b[39;00m\n\u001b[1;32m   1948\u001b[0m \u001b[38;5;66;03m# reach the first `yield` statement. This starts the aynchronous\u001b[39;00m\n\u001b[1;32m   1949\u001b[0m \u001b[38;5;66;03m# dispatch of the tasks to the workers.\u001b[39;00m\n\u001b[1;32m   1950\u001b[0m \u001b[38;5;28mnext\u001b[39m(output)\n\u001b[0;32m-> 1952\u001b[0m \u001b[38;5;28;01mreturn\u001b[39;00m output \u001b[38;5;28;01mif\u001b[39;00m \u001b[38;5;28mself\u001b[39m\u001b[38;5;241m.\u001b[39mreturn_generator \u001b[38;5;28;01melse\u001b[39;00m \u001b[38;5;28;43mlist\u001b[39;49m\u001b[43m(\u001b[49m\u001b[43moutput\u001b[49m\u001b[43m)\u001b[49m\n",
      "File \u001b[0;32m~/miniforge3/envs/cupy-env/lib/python3.11/site-packages/joblib/parallel.py:1595\u001b[0m, in \u001b[0;36mParallel._get_outputs\u001b[0;34m(self, iterator, pre_dispatch)\u001b[0m\n\u001b[1;32m   1592\u001b[0m     \u001b[38;5;28;01myield\u001b[39;00m\n\u001b[1;32m   1594\u001b[0m     \u001b[38;5;28;01mwith\u001b[39;00m \u001b[38;5;28mself\u001b[39m\u001b[38;5;241m.\u001b[39m_backend\u001b[38;5;241m.\u001b[39mretrieval_context():\n\u001b[0;32m-> 1595\u001b[0m         \u001b[38;5;28;01myield from\u001b[39;00m \u001b[38;5;28mself\u001b[39m\u001b[38;5;241m.\u001b[39m_retrieve()\n\u001b[1;32m   1597\u001b[0m \u001b[38;5;28;01mexcept\u001b[39;00m \u001b[38;5;167;01mGeneratorExit\u001b[39;00m:\n\u001b[1;32m   1598\u001b[0m     \u001b[38;5;66;03m# The generator has been garbage collected before being fully\u001b[39;00m\n\u001b[1;32m   1599\u001b[0m     \u001b[38;5;66;03m# consumed. This aborts the remaining tasks if possible and warn\u001b[39;00m\n\u001b[1;32m   1600\u001b[0m     \u001b[38;5;66;03m# the user if necessary.\u001b[39;00m\n\u001b[1;32m   1601\u001b[0m     \u001b[38;5;28mself\u001b[39m\u001b[38;5;241m.\u001b[39m_exception \u001b[38;5;241m=\u001b[39m \u001b[38;5;28;01mTrue\u001b[39;00m\n",
      "File \u001b[0;32m~/miniforge3/envs/cupy-env/lib/python3.11/site-packages/joblib/parallel.py:1707\u001b[0m, in \u001b[0;36mParallel._retrieve\u001b[0;34m(self)\u001b[0m\n\u001b[1;32m   1702\u001b[0m \u001b[38;5;66;03m# If the next job is not ready for retrieval yet, we just wait for\u001b[39;00m\n\u001b[1;32m   1703\u001b[0m \u001b[38;5;66;03m# async callbacks to progress.\u001b[39;00m\n\u001b[1;32m   1704\u001b[0m \u001b[38;5;28;01mif\u001b[39;00m ((\u001b[38;5;28mlen\u001b[39m(\u001b[38;5;28mself\u001b[39m\u001b[38;5;241m.\u001b[39m_jobs) \u001b[38;5;241m==\u001b[39m \u001b[38;5;241m0\u001b[39m) \u001b[38;5;129;01mor\u001b[39;00m\n\u001b[1;32m   1705\u001b[0m     (\u001b[38;5;28mself\u001b[39m\u001b[38;5;241m.\u001b[39m_jobs[\u001b[38;5;241m0\u001b[39m]\u001b[38;5;241m.\u001b[39mget_status(\n\u001b[1;32m   1706\u001b[0m         timeout\u001b[38;5;241m=\u001b[39m\u001b[38;5;28mself\u001b[39m\u001b[38;5;241m.\u001b[39mtimeout) \u001b[38;5;241m==\u001b[39m TASK_PENDING)):\n\u001b[0;32m-> 1707\u001b[0m     time\u001b[38;5;241m.\u001b[39msleep(\u001b[38;5;241m0.01\u001b[39m)\n\u001b[1;32m   1708\u001b[0m     \u001b[38;5;28;01mcontinue\u001b[39;00m\n\u001b[1;32m   1710\u001b[0m \u001b[38;5;66;03m# We need to be careful: the job list can be filling up as\u001b[39;00m\n\u001b[1;32m   1711\u001b[0m \u001b[38;5;66;03m# we empty it and Python list are not thread-safe by\u001b[39;00m\n\u001b[1;32m   1712\u001b[0m \u001b[38;5;66;03m# default hence the use of the lock\u001b[39;00m\n",
      "\u001b[0;31mKeyboardInterrupt\u001b[0m: "
     ]
    }
   ],
   "source": [
    "N = 50\n",
    "delp_list = cp.linspace(-0.9, 0.4, N)\n",
    "delm_list = cp.linspace(-0.5, 0.5, N)\n",
    "\n",
    "\n",
    "npad_auto_chain_zz_list = cp.vstack(\n",
    "    Parallel(n_jobs=-2, verbose=0)(\n",
    "        delayed(npad_auto_chain_zz)(delp, delm)\n",
    "        for delm, delp in tqdm(\n",
    "            product(delm_list, delp_list),\n",
    "            total=(delm_list.shape[0] * delp_list.shape[0]),\n",
    "        )\n",
    "    )\n",
    ").get()"
   ]
  },
  {
   "cell_type": "code",
   "execution_count": null,
   "metadata": {},
   "outputs": [
    {
     "data": {
      "text/plain": [
       "Text(0, 0.5, '$|\\\\zeta|$ (MHz)')"
      ]
     },
     "execution_count": 18,
     "metadata": {},
     "output_type": "execute_result"
    },
    {
     "data": {
      "image/png": "[encoded data removed]",
      "text/plain": [
       "<Figure size 1200x800 with 2 Axes>"
      ]
     },
     "metadata": {},
     "output_type": "display_data"
    }
   ],
   "source": [
    "fig, ax = plt.subplots(\n",
    "    1,\n",
    "    1,\n",
    "    layout=\"constrained\",\n",
    "    figsize=(12, 8),\n",
    "    sharex=True,\n",
    "    sharey=True,\n",
    ")\n",
    "pm2 = ax.pcolormesh(\n",
    "    delp_list.get(),\n",
    "    delm_list.get(),\n",
    "    np.abs(npad_auto_chain_zz_list.reshape(delm_list.shape[0], delp_list.shape[0]))\n",
    "    * 1e3,\n",
    "    cmap=\"YlGnBu_r\",\n",
    "    norm=mpl.colors.LogNorm(vmin=9e-4, vmax=2e2),\n",
    ")\n",
    "ax.set(\n",
    "    title=\"NPAD2\",\n",
    "    aspect=\"equal\",\n",
    "    xlabel=r\"$\\Delta_+$ (GHz)\",\n",
    "    ylabel=r\"$\\Delta_-$ (GHz)\",\n",
    ")\n",
    "\n",
    "cbar = fig.colorbar(pm2)\n",
    "cbar.ax.set_ylabel(r\"$|\\zeta|$ (MHz)\")"
   ]
  },
  {
   "cell_type": "code",
   "execution_count": null,
   "metadata": {},
   "outputs": [],
   "source": []
  }
 ],
 "metadata": {
  "kernelspec": {
   "display_name": "nvip_env",
   "language": "python",
   "name": "python3"
  },
  "language_info": {
   "codemirror_mode": {
    "name": "ipython",
    "version": 3
   },
   "file_extension": ".py",
   "mimetype": "text/x-python",
   "name": "python",
   "nbconvert_exporter": "python",
   "pygments_lexer": "ipython3",
   "version": "3.11.9"
  }
 },
 "nbformat": 4,
 "nbformat_minor": 2
}
