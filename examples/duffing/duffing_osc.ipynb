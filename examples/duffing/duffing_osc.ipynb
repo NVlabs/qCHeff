{
 "cells": [
  {
   "cell_type": "code",
   "execution_count": 59,
   "metadata": {},
   "outputs": [
    {
     "name": "stdout",
     "output_type": "stream",
     "text": [
      "The autoreload extension is already loaded. To reload it, use:\n",
      "  %reload_ext autoreload\n"
     ]
    }
   ],
   "source": [
    "%load_ext autoreload\n",
    "\n",
    "%autoreload complete"
   ]
  },
  {
   "cell_type": "markdown",
   "metadata": {},
   "source": [
    "# Symbolic NPAD checks"
   ]
  },
  {
   "cell_type": "code",
   "execution_count": 60,
   "metadata": {},
   "outputs": [],
   "source": [
    "import matplotlib.pyplot as plt\n",
    "import numpy as np\n",
    "import qutip as qt\n",
    "import sympy\n",
    "from npad_cupy.duffing_chain_utils import (\n",
    "    create_random_Duffing_Chain,\n",
    "    duffing_chain_full_ham,\n",
    ")\n",
    "from npad_cupy.duffing_utils import create_system_NPAD\n",
    "\n",
    "rng = np.random.default_rng()\n",
    "\n",
    "import matplotlib as mpl\n",
    "from icecream import ic\n",
    "from npad_cupy.symbolic.npad_symbolic import npad_eliminate_couplings\n",
    "\n",
    "mpl.rcParams[\"figure.dpi\"] = 100\n",
    "mpl.rcParams[\"font.size\"] = 25\n",
    "mpl.rcParams[\"lines.linewidth\"] = 3\n",
    "mpl.rcParams[\"lines.markersize\"] = 8\n",
    "mpl.rcParams[\"text.usetex\"] = True\n",
    "mpl.rcParams[\"legend.fontsize\"] = 20\n",
    "mpl.rcParams[\"axes.titlesize\"] = 20"
   ]
  },
  {
   "cell_type": "markdown",
   "metadata": {},
   "source": [
    "## Setup of the problem\n",
    "Below are data structures and functions which will help us reproduce the results from the NPAD paper. "
   ]
  },
  {
   "cell_type": "code",
   "execution_count": 61,
   "metadata": {},
   "outputs": [
    {
     "data": {
      "text/plain": [
       "CoupledDuffingOsc(qubit1=DuffingOscQubit(omega=5.5, alpha=-0.3, ntrunc=3), qubit2=DuffingOscQubit(omega=5, alpha=-0.3, ntrunc=3), g=0.1)"
      ]
     },
     "execution_count": 61,
     "metadata": {},
     "output_type": "execute_result"
    }
   ],
   "source": [
    "example_system = create_system_NPAD(detuning=0.5)\n",
    "example_system"
   ]
  },
  {
   "cell_type": "markdown",
   "metadata": {},
   "source": [
    "## Scaling up\n",
    "Now we can start looking at these effects in higher dimensional systems. First, we will start off with $N$ Duffing Oscillator qubits We should be able to create them much in the same way as we did with the two qubits earlier. Now we need to define an embedding function as well, which will allow us to identity wrap the operators accordingly. "
   ]
  },
  {
   "cell_type": "code",
   "execution_count": 62,
   "metadata": {},
   "outputs": [
    {
     "data": {
      "text/latex": [
       "$\\displaystyle \\left[\\begin{array}{cccccccccccccccc}0 & 0 & 0 & 0 & 0 & 0 & 0 & 0 & 0 & 0 & 0 & 0 & 0 & 0 & 0 & 0\\\\0 & \\omega_{2} & 0 & 0 & g & 0 & 0 & 0 & 0 & 0 & 0 & 0 & 0 & 0 & 0 & 0\\\\0 & 0 & \\alpha_{2} + 2 \\omega_{2} & 0 & 0 & \\sqrt{2} g & 0 & 0 & 0 & 0 & 0 & 0 & 0 & 0 & 0 & 0\\\\0 & 0 & 0 & 3 \\alpha_{2} + 3 \\omega_{2} & 0 & 0 & \\sqrt{3} g & 0 & 0 & 0 & 0 & 0 & 0 & 0 & 0 & 0\\\\0 & g & 0 & 0 & \\omega_{1} & 0 & 0 & 0 & 0 & 0 & 0 & 0 & 0 & 0 & 0 & 0\\\\0 & 0 & \\sqrt{2} g & 0 & 0 & \\omega_{1} + \\omega_{2} & 0 & 0 & \\sqrt{2} g & 0 & 0 & 0 & 0 & 0 & 0 & 0\\\\0 & 0 & 0 & \\sqrt{3} g & 0 & 0 & \\alpha_{2} + \\omega_{1} + 2 \\omega_{2} & 0 & 0 & 2 g & 0 & 0 & 0 & 0 & 0 & 0\\\\0 & 0 & 0 & 0 & 0 & 0 & 0 & 3 \\alpha_{2} + \\omega_{1} + 3 \\omega_{2} & 0 & 0 & \\sqrt{6} g & 0 & 0 & 0 & 0 & 0\\\\0 & 0 & 0 & 0 & 0 & \\sqrt{2} g & 0 & 0 & \\alpha_{1} + 2 \\omega_{1} & 0 & 0 & 0 & 0 & 0 & 0 & 0\\\\0 & 0 & 0 & 0 & 0 & 0 & 2 g & 0 & 0 & \\alpha_{1} + 2 \\omega_{1} + \\omega_{2} & 0 & 0 & \\sqrt{3} g & 0 & 0 & 0\\\\0 & 0 & 0 & 0 & 0 & 0 & 0 & \\sqrt{6} g & 0 & 0 & \\alpha_{1} + \\alpha_{2} + 2 \\omega_{1} + 2 \\omega_{2} & 0 & 0 & \\sqrt{6} g & 0 & 0\\\\0 & 0 & 0 & 0 & 0 & 0 & 0 & 0 & 0 & 0 & 0 & \\alpha_{1} + 3 \\alpha_{2} + 2 \\omega_{1} + 3 \\omega_{2} & 0 & 0 & 3 g & 0\\\\0 & 0 & 0 & 0 & 0 & 0 & 0 & 0 & 0 & \\sqrt{3} g & 0 & 0 & 3 \\alpha_{1} + 3 \\omega_{1} & 0 & 0 & 0\\\\0 & 0 & 0 & 0 & 0 & 0 & 0 & 0 & 0 & 0 & \\sqrt{6} g & 0 & 0 & 3 \\alpha_{1} + 3 \\omega_{1} + \\omega_{2} & 0 & 0\\\\0 & 0 & 0 & 0 & 0 & 0 & 0 & 0 & 0 & 0 & 0 & 3 g & 0 & 0 & 3 \\alpha_{1} + \\alpha_{2} + 3 \\omega_{1} + 2 \\omega_{2} & 0\\\\0 & 0 & 0 & 0 & 0 & 0 & 0 & 0 & 0 & 0 & 0 & 0 & 0 & 0 & 0 & 3 \\alpha_{1} + 3 \\alpha_{2} + 3 \\omega_{1} + 3 \\omega_{2}\\end{array}\\right]$"
      ],
      "text/plain": [
       "Matrix([\n",
       "[0,      0,                 0,                   0,      0,               0,                          0,                            0,                 0,                          0,                                     0,                                       0,                   0,                            0,                                       0,                                         0],\n",
       "[0, omega2,                 0,                   0,      g,               0,                          0,                            0,                 0,                          0,                                     0,                                       0,                   0,                            0,                                       0,                                         0],\n",
       "[0,      0, alpha2 + 2*omega2,                   0,      0,       sqrt(2)*g,                          0,                            0,                 0,                          0,                                     0,                                       0,                   0,                            0,                                       0,                                         0],\n",
       "[0,      0,                 0, 3*alpha2 + 3*omega2,      0,               0,                  sqrt(3)*g,                            0,                 0,                          0,                                     0,                                       0,                   0,                            0,                                       0,                                         0],\n",
       "[0,      g,                 0,                   0, omega1,               0,                          0,                            0,                 0,                          0,                                     0,                                       0,                   0,                            0,                                       0,                                         0],\n",
       "[0,      0,         sqrt(2)*g,                   0,      0, omega1 + omega2,                          0,                            0,         sqrt(2)*g,                          0,                                     0,                                       0,                   0,                            0,                                       0,                                         0],\n",
       "[0,      0,                 0,           sqrt(3)*g,      0,               0, alpha2 + omega1 + 2*omega2,                            0,                 0,                        2*g,                                     0,                                       0,                   0,                            0,                                       0,                                         0],\n",
       "[0,      0,                 0,                   0,      0,               0,                          0, 3*alpha2 + omega1 + 3*omega2,                 0,                          0,                             sqrt(6)*g,                                       0,                   0,                            0,                                       0,                                         0],\n",
       "[0,      0,                 0,                   0,      0,       sqrt(2)*g,                          0,                            0, alpha1 + 2*omega1,                          0,                                     0,                                       0,                   0,                            0,                                       0,                                         0],\n",
       "[0,      0,                 0,                   0,      0,               0,                        2*g,                            0,                 0, alpha1 + 2*omega1 + omega2,                                     0,                                       0,           sqrt(3)*g,                            0,                                       0,                                         0],\n",
       "[0,      0,                 0,                   0,      0,               0,                          0,                    sqrt(6)*g,                 0,                          0, alpha1 + alpha2 + 2*omega1 + 2*omega2,                                       0,                   0,                    sqrt(6)*g,                                       0,                                         0],\n",
       "[0,      0,                 0,                   0,      0,               0,                          0,                            0,                 0,                          0,                                     0, alpha1 + 3*alpha2 + 2*omega1 + 3*omega2,                   0,                            0,                                     3*g,                                         0],\n",
       "[0,      0,                 0,                   0,      0,               0,                          0,                            0,                 0,                  sqrt(3)*g,                                     0,                                       0, 3*alpha1 + 3*omega1,                            0,                                       0,                                         0],\n",
       "[0,      0,                 0,                   0,      0,               0,                          0,                            0,                 0,                          0,                             sqrt(6)*g,                                       0,                   0, 3*alpha1 + 3*omega1 + omega2,                                       0,                                         0],\n",
       "[0,      0,                 0,                   0,      0,               0,                          0,                            0,                 0,                          0,                                     0,                                     3*g,                   0,                            0, 3*alpha1 + alpha2 + 3*omega1 + 2*omega2,                                         0],\n",
       "[0,      0,                 0,                   0,      0,               0,                          0,                            0,                 0,                          0,                                     0,                                       0,                   0,                            0,                                       0, 3*alpha1 + 3*alpha2 + 3*omega1 + 3*omega2]])"
      ]
     },
     "execution_count": 62,
     "metadata": {},
     "output_type": "execute_result"
    }
   ],
   "source": [
    "example_chain = create_random_Duffing_Chain(chain_size=2, ntrunc=4)\n",
    "chain_full_ham, sub_params = duffing_chain_full_ham(example_chain, return_subs=True)\n",
    "chain_full_ham"
   ]
  },
  {
   "cell_type": "markdown",
   "metadata": {},
   "source": [
    "We have recovered the Hamiltonian for the system in the paper. Of course this can be extended to any number of qubits."
   ]
  },
  {
   "cell_type": "markdown",
   "metadata": {},
   "source": [
    "However, QuTiP has some conventions about the ordering of states in the matrix. So we should be careful of that too. `qt.state_number_enumerate()` will show us the order of states."
   ]
  },
  {
   "cell_type": "code",
   "execution_count": 63,
   "metadata": {},
   "outputs": [
    {
     "data": {
      "text/plain": [
       "[(0, 0), (0, 1), (0, 2), (1, 0), (1, 1), (2, 0)]"
      ]
     },
     "execution_count": 63,
     "metadata": {},
     "output_type": "execute_result"
    }
   ],
   "source": [
    "two_ex_subspace = list(qt.state_number_enumerate([4, 4], excitations=2))\n",
    "two_ex_subspace"
   ]
  },
  {
   "cell_type": "code",
   "execution_count": 64,
   "metadata": {},
   "outputs": [
    {
     "data": {
      "text/latex": [
       "$\\displaystyle \\left[\\begin{matrix}0 & 0 & 0 & 0 & 0 & 0\\\\0 & \\omega_{2} & 0 & g & 0 & 0\\\\0 & 0 & \\alpha_{2} + 2 \\omega_{2} & 0 & \\sqrt{2} g & 0\\\\0 & g & 0 & \\omega_{1} & 0 & 0\\\\0 & 0 & \\sqrt{2} g & 0 & \\omega_{1} + \\omega_{2} & \\sqrt{2} g\\\\0 & 0 & 0 & 0 & \\sqrt{2} g & \\alpha_{1} + 2 \\omega_{1}\\end{matrix}\\right]$"
      ],
      "text/plain": [
       "Matrix([\n",
       "[0,      0,                 0,      0,               0,                 0],\n",
       "[0, omega2,                 0,      g,               0,                 0],\n",
       "[0,      0, alpha2 + 2*omega2,      0,       sqrt(2)*g,                 0],\n",
       "[0,      g,                 0, omega1,               0,                 0],\n",
       "[0,      0,         sqrt(2)*g,      0, omega1 + omega2,         sqrt(2)*g],\n",
       "[0,      0,                 0,      0,       sqrt(2)*g, alpha1 + 2*omega1]])"
      ]
     },
     "execution_count": 64,
     "metadata": {},
     "output_type": "execute_result"
    }
   ],
   "source": [
    "two_ex_idx = [qt.state_number_index([4, 4], state) for state in two_ex_subspace]\n",
    "chain_full_ham[two_ex_idx, two_ex_idx]"
   ]
  },
  {
   "cell_type": "markdown",
   "metadata": {},
   "source": [
    " Then we can use `qt.state_number_index()` to find the index for a product state. We want to extract the `[(2,0), (1,1), (0,2)]` states."
   ]
  },
  {
   "cell_type": "code",
   "execution_count": 65,
   "metadata": {},
   "outputs": [
    {
     "data": {
      "text/plain": [
       "[8, 5, 2]"
      ]
     },
     "execution_count": 65,
     "metadata": {},
     "output_type": "execute_result"
    }
   ],
   "source": [
    "CZ_state_labels = [(2, 0), (1, 1), (0, 2)]\n",
    "CZ_state_idx = [qt.state_number_index([4, 4], state) for state in CZ_state_labels]\n",
    "CZ_state_idx"
   ]
  },
  {
   "cell_type": "markdown",
   "metadata": {},
   "source": [
    "With this, we can now get our projected Hamiltonian on this subspace. "
   ]
  },
  {
   "cell_type": "code",
   "execution_count": 66,
   "metadata": {},
   "outputs": [
    {
     "data": {
      "text/latex": [
       "$\\displaystyle \\left[\\begin{matrix}\\alpha_{1} + 2 \\omega_{1} & \\sqrt{2} g & 0\\\\\\sqrt{2} g & \\omega_{1} + \\omega_{2} & \\sqrt{2} g\\\\0 & \\sqrt{2} g & \\alpha_{2} + 2 \\omega_{2}\\end{matrix}\\right]$"
      ],
      "text/plain": [
       "Matrix([\n",
       "[alpha1 + 2*omega1,       sqrt(2)*g,                 0],\n",
       "[        sqrt(2)*g, omega1 + omega2,         sqrt(2)*g],\n",
       "[                0,       sqrt(2)*g, alpha2 + 2*omega2]])"
      ]
     },
     "execution_count": 66,
     "metadata": {},
     "output_type": "execute_result"
    }
   ],
   "source": [
    "subspace_ham = chain_full_ham[CZ_state_idx, CZ_state_idx]\n",
    "subspace_ham"
   ]
  },
  {
   "cell_type": "markdown",
   "metadata": {},
   "source": [
    "We can convert this Hamiltonian to the same form as given in the paper, but that is trivial and not important at the moment. Later, we will check how NPAD performs on the full Hamiltonian compared to the subspace Hamiltonian."
   ]
  },
  {
   "cell_type": "markdown",
   "metadata": {},
   "source": [
    "For a ZZ calculation, we need to perform this calculation in the full subspace. This means that we need the indices of `[(0,0), (0,1), (1,0), (1,1)]` levels."
   ]
  },
  {
   "cell_type": "code",
   "execution_count": 67,
   "metadata": {},
   "outputs": [
    {
     "data": {
      "text/plain": [
       "[0, 1, 4, 5]"
      ]
     },
     "execution_count": 67,
     "metadata": {},
     "output_type": "execute_result"
    }
   ],
   "source": [
    "ZZ_calc_labels = [(0, 0), (0, 1), (1, 0), (1, 1)]\n",
    "ZZ_state_idx = [qt.state_number_index([4, 4], state) for state in ZZ_calc_labels]\n",
    "ZZ_state_idx"
   ]
  },
  {
   "cell_type": "markdown",
   "metadata": {},
   "source": [
    "Since NPAD only rotates away the provided couplings, it doesn't matter (since this case is block diagonal in the total photon numer), so the full and subspace results should be the same."
   ]
  },
  {
   "cell_type": "code",
   "execution_count": 68,
   "metadata": {},
   "outputs": [],
   "source": [
    "chain_full_NPAD = npad_eliminate_couplings(chain_full_ham, couplings=[(8, 5), (5, 2)])\n",
    "chain_full_zz = (lambda x: x[5, 5] + x[0, 0] - x[1, 1] - x[4, 4])(chain_full_NPAD)"
   ]
  },
  {
   "cell_type": "markdown",
   "metadata": {},
   "source": [
    "`expr.free_symbols` returns a set, the order of which is not deterministic. The [FAQ](https://github.com/sympy/sympy/wiki/Faq#is-there-a-method-to-get-a-list-with-all-symbols-in-an-expression) says that we should use `expr.atoms(sympy.Symbol)` instead. This is not deterministic either. What is the best way to automate this? For now, we know the assumptions on the symbolsl, so let's just define new ones."
   ]
  },
  {
   "cell_type": "code",
   "execution_count": 69,
   "metadata": {},
   "outputs": [
    {
     "data": {
      "text/plain": [
       "[omega1, omega2, alpha2, alpha1, g]"
      ]
     },
     "execution_count": 69,
     "metadata": {},
     "output_type": "execute_result"
    }
   ],
   "source": [
    "list(chain_full_zz.atoms(sympy.Symbol))"
   ]
  },
  {
   "cell_type": "code",
   "execution_count": 70,
   "metadata": {},
   "outputs": [
    {
     "data": {
      "text/plain": [
       "True"
      ]
     },
     "execution_count": 70,
     "metadata": {},
     "output_type": "execute_result"
    }
   ],
   "source": [
    "list(chain_full_zz.atoms(sympy.Symbol))[4] == sympy.symbols(\"g\", positive=True)"
   ]
  },
  {
   "cell_type": "code",
   "execution_count": 71,
   "metadata": {},
   "outputs": [],
   "source": [
    "w1, w2 = sympy.symbols(\"omega1:3\", positive=True)\n",
    "a1, a2 = sympy.symbols(\"alpha1:3\", real=True)\n",
    "gf = sympy.symbols(\"g\", positive=True)"
   ]
  },
  {
   "cell_type": "markdown",
   "metadata": {},
   "source": [
    "## Symbolic manipulation\n",
    "Symbolic simplification is rather difficult. So we have to perform these rotations in a guided way so as to avoid common pitfalls. Some are listed below:\n",
    "\n",
    "- Sympy doesn't seem to handle complex variables (or functions thereof) nicely with regard to simplification. So, instead of taking adjoints, we will try to hard-code adjoints where possible.\n",
    "\n",
    "- Simplification is slow and doesn't necessarily give us better looking expressions. So far as numerical evaluation is concerned, we don't really need simplification so long as all the appropriate substitutions are done."
   ]
  },
  {
   "cell_type": "code",
   "execution_count": 72,
   "metadata": {},
   "outputs": [
    {
     "data": {
      "text/latex": [
       "$\\displaystyle \\left[\\begin{matrix}\\delta & g_{1} & 0\\\\g_{1} & - \\delta & g_{2}\\\\0 & g_{2} & - \\Delta\\end{matrix}\\right]$"
      ],
      "text/plain": [
       "Matrix([\n",
       "[\\delta,     g_1,       0],\n",
       "[   g_1, -\\delta,     g_2],\n",
       "[     0,     g_2, -\\Delta]])"
      ]
     },
     "execution_count": 72,
     "metadata": {},
     "output_type": "execute_result"
    }
   ],
   "source": [
    "delta, Delta, g1, g2, g = sympy.symbols(r\"\\delta \\Delta g_1 g_2 g\", real=True)\n",
    "omega12, alpha1, alpha2 = sympy.symbols(\"omega12 alpha1:3\")\n",
    "delta_defn = (delta, 0.5 * (omega12 + alpha1))\n",
    "Delta_defn = (Delta, 1.5 * omega12 + 0.5 * alpha1 - alpha2)\n",
    "M = sympy.Matrix(\n",
    "    [[delta, g1, 0], [g1, -delta, g2], [0, g2, -Delta]]\n",
    ")  # .subs(    [(g1, sympy.sqrt(2)*g), (g2, sympy.sqrt(2)*g)])\n",
    "\n",
    "M"
   ]
  },
  {
   "cell_type": "code",
   "execution_count": 73,
   "metadata": {},
   "outputs": [],
   "source": [
    "M2 = npad_eliminate_couplings(M, couplings=[(0, 1), (1, 2)])\n",
    "M2sim = npad_eliminate_couplings(M, couplings=[(0, 1), (1, 2)], simultaneous=True)"
   ]
  },
  {
   "cell_type": "markdown",
   "metadata": {},
   "source": [
    "## Numerical Evaluation and Comparison"
   ]
  },
  {
   "cell_type": "code",
   "execution_count": 74,
   "metadata": {},
   "outputs": [
    {
     "data": {
      "text/latex": [
       "$\\displaystyle E_{2} = \\delta \\sqrt{1 + \\frac{g_{1}^{2}}{\\delta^{2}}}$"
      ],
      "text/plain": [
       "Eq(E2, \\delta*sqrt(1 + g_1**2/\\delta**2))"
      ]
     },
     "execution_count": 74,
     "metadata": {},
     "output_type": "execute_result"
    }
   ],
   "source": [
    "E2sym = sympy.symbols(\"E2\", real=True)\n",
    "E2 = delta * sympy.sqrt(1 + (g1 / delta) ** 2)\n",
    "sympy.Eq(E2sym, E2)"
   ]
  },
  {
   "cell_type": "code",
   "execution_count": 75,
   "metadata": {},
   "outputs": [
    {
     "data": {
      "text/latex": [
       "$\\displaystyle c_{01} = \\frac{1}{\\sqrt{1 + \\frac{\\left(E_{2} - \\delta\\right)^{2}}{g_{1}^{2}}}}$"
      ],
      "text/plain": [
       "Eq(c_{01}, 1/sqrt(1 + (E2 - \\delta)**2/g_1**2))"
      ]
     },
     "execution_count": 75,
     "metadata": {},
     "output_type": "execute_result"
    }
   ],
   "source": [
    "c01sym = sympy.symbols(\"c_{01}\", real=True)\n",
    "c01 = 1 / (sympy.sqrt(1 + ((E2sym - delta) / g1) ** 2))\n",
    "sympy.Eq(c01sym, c01)"
   ]
  },
  {
   "cell_type": "code",
   "execution_count": 76,
   "metadata": {},
   "outputs": [
    {
     "data": {
      "text/latex": [
       "$\\displaystyle - E_{2} + \\delta + \\frac{\\left(- E_{2} + \\Delta\\right) \\left(\\sqrt{\\frac{4 c_{01}^{2} g_{2}^{2}}{\\left(- E_{2} + \\Delta\\right)^{2}} + 1} - 1\\right)}{2}$"
      ],
      "text/plain": [
       "-E2 + \\delta + (-E2 + \\Delta)*(sqrt(4*c_{01}**2*g_2**2/(-E2 + \\Delta)**2 + 1) - 1)/2"
      ]
     },
     "execution_count": 76,
     "metadata": {},
     "output_type": "execute_result"
    }
   ],
   "source": [
    "paper_zz = (\n",
    "    delta\n",
    "    - E2sym\n",
    "    + (Delta - E2sym)\n",
    "    * (sympy.sqrt(1 + (2 * c01sym * g2 / (Delta - E2sym)) ** 2) - 1)\n",
    "    / 2\n",
    ")\n",
    "paper_zz"
   ]
  },
  {
   "cell_type": "code",
   "execution_count": 77,
   "metadata": {},
   "outputs": [
    {
     "data": {
      "text/plain": [
       "<matplotlib.legend.Legend at 0x7f1af59550d0>"
      ]
     },
     "execution_count": 77,
     "metadata": {},
     "output_type": "execute_result"
    },
    {
     "data": {
      "image/png": "[encoded data removed]",
      "text/plain": [
       "<Figure size 640x480 with 1 Axes>"
      ]
     },
     "metadata": {},
     "output_type": "display_data"
    }
   ],
   "source": [
    "npad_zz = sympy.lambdify(\n",
    "    omega12,\n",
    "    expr=(\n",
    "        (delta + M2[1, 1])\n",
    "        .subs([(g1, sympy.sqrt(2) * g), (g2, sympy.sqrt(2) * g)])\n",
    "        .subs([delta_defn, Delta_defn])\n",
    "        .subs([(alpha1, -0.3), (alpha2, -0.3), (g, 0.1)])\n",
    "    ),\n",
    ")\n",
    "\n",
    "chain_npad_zz = sympy.lambdify(\n",
    "    omega12,\n",
    "    expr=(\n",
    "        chain_full_zz.subs(\n",
    "            [\n",
    "                (a1, -0.3),\n",
    "                (a2, -0.3),\n",
    "                (gf, 0.1),\n",
    "                (w2, w1 - omega12),\n",
    "                (w1, 5),\n",
    "            ]\n",
    "        ),\n",
    "    ),\n",
    "    modules=[\"scipy\", \"numpy\"],\n",
    ")\n",
    "\n",
    "sim_npad_zz = sympy.lambdify(\n",
    "    omega12,\n",
    "    expr=(\n",
    "        (delta + M2sim[1, 1])\n",
    "        .subs([(g1, sympy.sqrt(2) * g), (g2, sympy.sqrt(2) * g)])\n",
    "        .subs([delta_defn, Delta_defn])\n",
    "        .subs([(alpha1, -0.3), (alpha2, -0.3), (g, 0.1)])\n",
    "    ),\n",
    ")\n",
    "paper_npad_zz = sympy.lambdify(\n",
    "    omega12,\n",
    "    expr=(\n",
    "        (paper_zz)\n",
    "        .subs(c01sym, c01)\n",
    "        .subs(E2sym, E2)\n",
    "        .subs([(g1, sympy.sqrt(2) * g), (g2, sympy.sqrt(2) * g)])\n",
    "        .subs([delta_defn, Delta_defn])\n",
    "        .subs([(alpha1, -0.3), (alpha2, -0.3), (g, 0.1)])\n",
    "    ),\n",
    ")\n",
    "\n",
    "detuning_list = np.linspace(-0.5, 1, 10000)\n",
    "\n",
    "npad_zz_list = npad_zz(detuning_list)\n",
    "chain_npad_zz_list = chain_npad_zz(detuning_list)[0]\n",
    "sim_npad_zz_list = sim_npad_zz(detuning_list)\n",
    "paper_npad_zz_list = paper_npad_zz(detuning_list)\n",
    "fig, ax = plt.subplots()\n",
    "ax.plot(detuning_list, npad_zz_list, label=\"NPAD\", alpha=0.8, ls=\"-\", lw=3)\n",
    "ax.plot(\n",
    "    detuning_list, chain_npad_zz_list, label=\"Full Ham NPAD\", alpha=0.8, ls=\"-\", lw=3\n",
    ")\n",
    "ax.plot(\n",
    "    detuning_list, sim_npad_zz_list, label=\"Simultaneous NPAD\", alpha=0.8, ls=\"--\", lw=3\n",
    ")\n",
    "ax.plot(detuning_list, paper_npad_zz_list, label=\"Paper\", alpha=0.8, ls=\"-.\", lw=3)\n",
    "ax.set(\n",
    "    ylabel=r\"$\\zeta$ (GHz)\",\n",
    "    xlabel=r\"$\\omega_1 - \\omega_2$ (GHz)\",\n",
    "    xlim=(-0.5, 1),\n",
    "    ylim=(-1, 1),\n",
    ")\n",
    "ax.axvline(\n",
    "    x=-0.3,\n",
    "    alpha=0.7,\n",
    "    c=\"gray\",\n",
    "    ls=\":\",\n",
    "    label=r\"$\\omega_1 - \\omega_2 = -\\alpha_1$\",\n",
    ")\n",
    "ax.axvline(\n",
    "    x=0.3,\n",
    "    alpha=0.7,\n",
    "    c=\"gray\",\n",
    "    label=r\"$\\omega_1 - \\omega_2 = \\alpha_2$\",\n",
    ")\n",
    "ax.set(ylim=(-0.25, 0.25))\n",
    "ax.legend(fontsize=15)"
   ]
  },
  {
   "cell_type": "markdown",
   "metadata": {},
   "source": [
    "The takeaway from this is that while simulatneous NPAD does indeed recover all the qualitative features of this behavior, ~~iterative NPAD performs more accurately because simultaneous NPAD (while eventually converging to the correct diagonal matrix) doesn't account for these corrections with only one or a few rotations. Since both rotations share some common levels, doing this simultaneously is a bad idea.~~ **Need to examine this more closely.** Is simultaneous NPAD better?"
   ]
  }
 ],
 "metadata": {
  "kernelspec": {
   "display_name": "nvip_env",
   "language": "python",
   "name": "python3"
  },
  "language_info": {
   "codemirror_mode": {
    "name": "ipython",
    "version": 3
   },
   "file_extension": ".py",
   "mimetype": "text/x-python",
   "name": "python",
   "nbconvert_exporter": "python",
   "pygments_lexer": "ipython3",
   "version": "3.11.5"
  }
 },
 "nbformat": 4,
 "nbformat_minor": 2
}
